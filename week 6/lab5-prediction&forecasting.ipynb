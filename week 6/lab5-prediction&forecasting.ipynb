{
 "cells": [
  {
   "cell_type": "code",
   "execution_count": 99,
   "metadata": {},
   "outputs": [],
   "source": [
    "# IMPORTING USEFUL LIBRARY\n",
    "import pandas as pd\n",
    "import matplotlib.pyplot as plt\n",
    "import numpy as np\n",
    "from sklearn.linear_model import LinearRegression\n",
    "from sklearn.svm import SVR\n",
    "import datetime as dt\n",
    "from datetime import timedelta\n",
    "from statsmodels.tsa.api import Holt"
   ]
  },
  {
   "cell_type": "code",
   "execution_count": 101,
   "metadata": {},
   "outputs": [
    {
     "data": {
      "text/html": [
       "<div>\n",
       "<style scoped>\n",
       "    .dataframe tbody tr th:only-of-type {\n",
       "        vertical-align: middle;\n",
       "    }\n",
       "\n",
       "    .dataframe tbody tr th {\n",
       "        vertical-align: top;\n",
       "    }\n",
       "\n",
       "    .dataframe thead th {\n",
       "        text-align: right;\n",
       "    }\n",
       "</style>\n",
       "<table border=\"1\" class=\"dataframe\">\n",
       "  <thead>\n",
       "    <tr style=\"text-align: right;\">\n",
       "      <th></th>\n",
       "      <th>iso_code</th>\n",
       "      <th>continent</th>\n",
       "      <th>location</th>\n",
       "      <th>date</th>\n",
       "      <th>total_cases</th>\n",
       "      <th>new_cases</th>\n",
       "      <th>new_cases_smoothed</th>\n",
       "      <th>total_deaths</th>\n",
       "      <th>new_deaths</th>\n",
       "      <th>new_deaths_smoothed</th>\n",
       "      <th>...</th>\n",
       "      <th>gdp_per_capita</th>\n",
       "      <th>extreme_poverty</th>\n",
       "      <th>cardiovasc_death_rate</th>\n",
       "      <th>diabetes_prevalence</th>\n",
       "      <th>female_smokers</th>\n",
       "      <th>male_smokers</th>\n",
       "      <th>handwashing_facilities</th>\n",
       "      <th>hospital_beds_per_thousand</th>\n",
       "      <th>life_expectancy</th>\n",
       "      <th>human_development_index</th>\n",
       "    </tr>\n",
       "  </thead>\n",
       "  <tbody>\n",
       "    <tr>\n",
       "      <th>0</th>\n",
       "      <td>ABW</td>\n",
       "      <td>North America</td>\n",
       "      <td>Aruba</td>\n",
       "      <td>2020-03-13</td>\n",
       "      <td>2</td>\n",
       "      <td>2</td>\n",
       "      <td>nan</td>\n",
       "      <td>0</td>\n",
       "      <td>0</td>\n",
       "      <td>nan</td>\n",
       "      <td>...</td>\n",
       "      <td>35974</td>\n",
       "      <td>nan</td>\n",
       "      <td>nan</td>\n",
       "      <td>12</td>\n",
       "      <td>nan</td>\n",
       "      <td>nan</td>\n",
       "      <td>nan</td>\n",
       "      <td>nan</td>\n",
       "      <td>76</td>\n",
       "      <td>nan</td>\n",
       "    </tr>\n",
       "    <tr>\n",
       "      <th>1</th>\n",
       "      <td>ABW</td>\n",
       "      <td>North America</td>\n",
       "      <td>Aruba</td>\n",
       "      <td>2020-03-19</td>\n",
       "      <td>nan</td>\n",
       "      <td>nan</td>\n",
       "      <td>0</td>\n",
       "      <td>nan</td>\n",
       "      <td>nan</td>\n",
       "      <td>0</td>\n",
       "      <td>...</td>\n",
       "      <td>35974</td>\n",
       "      <td>nan</td>\n",
       "      <td>nan</td>\n",
       "      <td>12</td>\n",
       "      <td>nan</td>\n",
       "      <td>nan</td>\n",
       "      <td>nan</td>\n",
       "      <td>nan</td>\n",
       "      <td>76</td>\n",
       "      <td>nan</td>\n",
       "    </tr>\n",
       "    <tr>\n",
       "      <th>2</th>\n",
       "      <td>ABW</td>\n",
       "      <td>North America</td>\n",
       "      <td>Aruba</td>\n",
       "      <td>2020-03-20</td>\n",
       "      <td>4</td>\n",
       "      <td>2</td>\n",
       "      <td>0</td>\n",
       "      <td>0</td>\n",
       "      <td>0</td>\n",
       "      <td>0</td>\n",
       "      <td>...</td>\n",
       "      <td>35974</td>\n",
       "      <td>nan</td>\n",
       "      <td>nan</td>\n",
       "      <td>12</td>\n",
       "      <td>nan</td>\n",
       "      <td>nan</td>\n",
       "      <td>nan</td>\n",
       "      <td>nan</td>\n",
       "      <td>76</td>\n",
       "      <td>nan</td>\n",
       "    </tr>\n",
       "    <tr>\n",
       "      <th>3</th>\n",
       "      <td>ABW</td>\n",
       "      <td>North America</td>\n",
       "      <td>Aruba</td>\n",
       "      <td>2020-03-21</td>\n",
       "      <td>nan</td>\n",
       "      <td>nan</td>\n",
       "      <td>0</td>\n",
       "      <td>nan</td>\n",
       "      <td>nan</td>\n",
       "      <td>0</td>\n",
       "      <td>...</td>\n",
       "      <td>35974</td>\n",
       "      <td>nan</td>\n",
       "      <td>nan</td>\n",
       "      <td>12</td>\n",
       "      <td>nan</td>\n",
       "      <td>nan</td>\n",
       "      <td>nan</td>\n",
       "      <td>nan</td>\n",
       "      <td>76</td>\n",
       "      <td>nan</td>\n",
       "    </tr>\n",
       "    <tr>\n",
       "      <th>4</th>\n",
       "      <td>ABW</td>\n",
       "      <td>North America</td>\n",
       "      <td>Aruba</td>\n",
       "      <td>2020-03-22</td>\n",
       "      <td>nan</td>\n",
       "      <td>nan</td>\n",
       "      <td>0</td>\n",
       "      <td>nan</td>\n",
       "      <td>nan</td>\n",
       "      <td>0</td>\n",
       "      <td>...</td>\n",
       "      <td>35974</td>\n",
       "      <td>nan</td>\n",
       "      <td>nan</td>\n",
       "      <td>12</td>\n",
       "      <td>nan</td>\n",
       "      <td>nan</td>\n",
       "      <td>nan</td>\n",
       "      <td>nan</td>\n",
       "      <td>76</td>\n",
       "      <td>nan</td>\n",
       "    </tr>\n",
       "  </tbody>\n",
       "</table>\n",
       "<p>5 rows × 41 columns</p>\n",
       "</div>"
      ],
      "text/plain": [
       "  iso_code      continent location        date  total_cases  new_cases  \\\n",
       "0      ABW  North America    Aruba  2020-03-13            2          2   \n",
       "1      ABW  North America    Aruba  2020-03-19          nan        nan   \n",
       "2      ABW  North America    Aruba  2020-03-20            4          2   \n",
       "3      ABW  North America    Aruba  2020-03-21          nan        nan   \n",
       "4      ABW  North America    Aruba  2020-03-22          nan        nan   \n",
       "\n",
       "   new_cases_smoothed  total_deaths  new_deaths  new_deaths_smoothed  ...  \\\n",
       "0                 nan             0           0                  nan  ...   \n",
       "1                   0           nan         nan                    0  ...   \n",
       "2                   0             0           0                    0  ...   \n",
       "3                   0           nan         nan                    0  ...   \n",
       "4                   0           nan         nan                    0  ...   \n",
       "\n",
       "   gdp_per_capita  extreme_poverty  cardiovasc_death_rate  \\\n",
       "0           35974              nan                    nan   \n",
       "1           35974              nan                    nan   \n",
       "2           35974              nan                    nan   \n",
       "3           35974              nan                    nan   \n",
       "4           35974              nan                    nan   \n",
       "\n",
       "   diabetes_prevalence  female_smokers  male_smokers  handwashing_facilities  \\\n",
       "0                   12             nan           nan                     nan   \n",
       "1                   12             nan           nan                     nan   \n",
       "2                   12             nan           nan                     nan   \n",
       "3                   12             nan           nan                     nan   \n",
       "4                   12             nan           nan                     nan   \n",
       "\n",
       "   hospital_beds_per_thousand  life_expectancy  human_development_index  \n",
       "0                         nan               76                      nan  \n",
       "1                         nan               76                      nan  \n",
       "2                         nan               76                      nan  \n",
       "3                         nan               76                      nan  \n",
       "4                         nan               76                      nan  \n",
       "\n",
       "[5 rows x 41 columns]"
      ]
     },
     "execution_count": 101,
     "metadata": {},
     "output_type": "execute_result"
    }
   ],
   "source": [
    "# DATA SET IMPORTING\n",
    "df = pd.read_csv('s3://covid-data-analyze/covidData.csv')\n",
    "df.head()"
   ]
  },
  {
   "cell_type": "code",
   "execution_count": 102,
   "metadata": {},
   "outputs": [
    {
     "name": "stdout",
     "output_type": "stream",
     "text": [
      "(49878, 41)\n",
      "------------------------------------------\n",
      "iso_code                             288\n",
      "continent                            576\n",
      "location                               0\n",
      "date                                   0\n",
      "total_cases                          636\n",
      "new_cases                            860\n",
      "new_cases_smoothed                  1642\n",
      "total_deaths                         636\n",
      "new_deaths                           860\n",
      "new_deaths_smoothed                 1642\n",
      "total_cases_per_million              924\n",
      "new_cases_per_million                924\n",
      "new_cases_smoothed_per_million      1707\n",
      "total_deaths_per_million             924\n",
      "new_deaths_per_million               924\n",
      "new_deaths_smoothed_per_million     1707\n",
      "new_tests                          31837\n",
      "total_tests                        31412\n",
      "total_tests_per_thousand           31412\n",
      "new_tests_per_thousand             31837\n",
      "new_tests_smoothed                 29447\n",
      "new_tests_smoothed_per_thousand    29447\n",
      "tests_per_case                     31069\n",
      "positive_rate                      30607\n",
      "tests_units                        28590\n",
      "stringency_index                    8453\n",
      "population                           288\n",
      "population_density                  2571\n",
      "median_age                          5433\n",
      "aged_65_older                       6097\n",
      "aged_70_older                       5664\n",
      "gdp_per_capita                      6015\n",
      "extreme_poverty                    20627\n",
      "cardiovasc_death_rate               5446\n",
      "diabetes_prevalence                 3851\n",
      "female_smokers                     15135\n",
      "male_smokers                       15578\n",
      "handwashing_facilities             29007\n",
      "hospital_beds_per_thousand          9781\n",
      "life_expectancy                      918\n",
      "human_development_index             6995\n",
      "dtype: int64\n",
      "------------------------------------------\n",
      "iso_code                            object\n",
      "continent                           object\n",
      "location                            object\n",
      "date                                object\n",
      "total_cases                        float64\n",
      "new_cases                          float64\n",
      "new_cases_smoothed                 float64\n",
      "total_deaths                       float64\n",
      "new_deaths                         float64\n",
      "new_deaths_smoothed                float64\n",
      "total_cases_per_million            float64\n",
      "new_cases_per_million              float64\n",
      "new_cases_smoothed_per_million     float64\n",
      "total_deaths_per_million           float64\n",
      "new_deaths_per_million             float64\n",
      "new_deaths_smoothed_per_million    float64\n",
      "new_tests                          float64\n",
      "total_tests                        float64\n",
      "total_tests_per_thousand           float64\n",
      "new_tests_per_thousand             float64\n",
      "new_tests_smoothed                 float64\n",
      "new_tests_smoothed_per_thousand    float64\n",
      "tests_per_case                     float64\n",
      "positive_rate                      float64\n",
      "tests_units                         object\n",
      "stringency_index                   float64\n",
      "population                         float64\n",
      "population_density                 float64\n",
      "median_age                         float64\n",
      "aged_65_older                      float64\n",
      "aged_70_older                      float64\n",
      "gdp_per_capita                     float64\n",
      "extreme_poverty                    float64\n",
      "cardiovasc_death_rate              float64\n",
      "diabetes_prevalence                float64\n",
      "female_smokers                     float64\n",
      "male_smokers                       float64\n",
      "handwashing_facilities             float64\n",
      "hospital_beds_per_thousand         float64\n",
      "life_expectancy                    float64\n",
      "human_development_index            float64\n",
      "dtype: object\n"
     ]
    }
   ],
   "source": [
    "# SHOOWING SHAPE, NULL AND DTYPES VALUE FROM FILES\n",
    "print(df.shape)\n",
    "print('------------------------------------------')\n",
    "print(df.isnull().sum())\n",
    "print('------------------------------------------')\n",
    "print(df.dtypes)"
   ]
  },
  {
   "cell_type": "code",
   "execution_count": 103,
   "metadata": {},
   "outputs": [],
   "source": [
    "# DELETING UNNECESSARY COLUMNS\n",
    "df.drop(['iso_code','new_cases_smoothed','tests_units', 'stringency_index',\n",
    "       'population', 'population_density', 'median_age', 'aged_65_older',\n",
    "       'aged_70_older', 'gdp_per_capita', 'extreme_poverty',\n",
    "       'cardiovasc_death_rate', 'diabetes_prevalence', 'female_smokers',\n",
    "       'male_smokers', 'handwashing_facilities', 'hospital_beds_per_thousand',\n",
    "       'life_expectancy', 'human_development_index', 'total_tests_per_thousand', 'new_tests_per_thousand',\n",
    "       'new_tests_smoothed', 'new_tests_smoothed_per_thousand',\n",
    "       'tests_per_case','new_deaths_smoothed', 'total_cases_per_million',\n",
    "       'new_cases_per_million', 'new_cases_smoothed_per_million',\n",
    "       'total_deaths_per_million', 'new_deaths_per_million',\n",
    "       'new_deaths_smoothed_per_million', 'new_tests' ],axis=1, inplace=True)"
   ]
  },
  {
   "cell_type": "code",
   "execution_count": 104,
   "metadata": {},
   "outputs": [
    {
     "data": {
      "text/plain": [
       "Index(['continent', 'location', 'date', 'total_cases', 'new_cases',\n",
       "       'total_deaths', 'new_deaths', 'total_tests', 'positive_rate'],\n",
       "      dtype='object')"
      ]
     },
     "execution_count": 104,
     "metadata": {},
     "output_type": "execute_result"
    }
   ],
   "source": [
    "df.columns"
   ]
  },
  {
   "cell_type": "code",
   "execution_count": 105,
   "metadata": {},
   "outputs": [
    {
     "data": {
      "text/plain": [
       "continent          576\n",
       "location             0\n",
       "date                 0\n",
       "total_cases        636\n",
       "new_cases          860\n",
       "total_deaths       636\n",
       "new_deaths         860\n",
       "total_tests      31412\n",
       "positive_rate    30607\n",
       "dtype: int64"
      ]
     },
     "execution_count": 105,
     "metadata": {},
     "output_type": "execute_result"
    }
   ],
   "source": [
    "df.isnull().sum()"
   ]
  },
  {
   "cell_type": "code",
   "execution_count": 106,
   "metadata": {},
   "outputs": [
    {
     "data": {
      "text/plain": [
       "0       2020-03-13\n",
       "1       2020-03-19\n",
       "2       2020-03-20\n",
       "3       2020-03-21\n",
       "4       2020-03-22\n",
       "           ...    \n",
       "49873   2020-10-09\n",
       "49874   2020-10-10\n",
       "49875   2020-10-11\n",
       "49876   2020-10-12\n",
       "49877   2020-10-13\n",
       "Name: date, Length: 49878, dtype: datetime64[ns]"
      ]
     },
     "execution_count": 106,
     "metadata": {},
     "output_type": "execute_result"
    }
   ],
   "source": [
    "#CONVERTING DATE TO DATETIME FORMAT\n",
    "df['date']=pd.to_datetime(df['date'])\n",
    "df['date']"
   ]
  },
  {
   "cell_type": "code",
   "execution_count": 107,
   "metadata": {},
   "outputs": [],
   "source": [
    "# ANALYZING CASES BASED ON DATE\n",
    "datewise = df.groupby(['date']).agg({'total_cases':'sum','total_deaths':'sum','positive_rate':'sum'})"
   ]
  },
  {
   "cell_type": "code",
   "execution_count": 108,
   "metadata": {},
   "outputs": [
    {
     "name": "stdout",
     "output_type": "stream",
     "text": [
      "Total Cases:  74763425.0\n",
      "Total Deaths:  2124246.0\n",
      "Total Positive Case:  1.3270000000000002\n"
     ]
    }
   ],
   "source": [
    "# INFORMATION BASED ON DATE\n",
    "\n",
    "# iloc is pandas service for row selection\n",
    "\n",
    "print('Total Cases: ', datewise['total_cases'].iloc[-1])\n",
    "print('Total Deaths: ', datewise['total_deaths'].iloc[-1])\n",
    "print('Total Positive Case: ', datewise['positive_rate'].iloc[-1])"
   ]
  },
  {
   "cell_type": "code",
   "execution_count": 109,
   "metadata": {},
   "outputs": [],
   "source": [
    "# IMPORTING SEABORN\n",
    "\n",
    "#seaboen is data visulization library used for attractive design\n",
    "\n",
    "import seaborn as sns"
   ]
  },
  {
   "cell_type": "code",
   "execution_count": 110,
   "metadata": {},
   "outputs": [
    {
     "data": {
      "text/plain": [
       "(array([  0,   1,   2,   3,   4,   5,   6,   7,   8,   9,  10,  11,  12,\n",
       "         13,  14,  15,  16,  17,  18,  19,  20,  21,  22,  23,  24,  25,\n",
       "         26,  27,  28,  29,  30,  31,  32,  33,  34,  35,  36,  37,  38,\n",
       "         39,  40,  41,  42,  43,  44,  45,  46,  47,  48,  49,  50,  51,\n",
       "         52,  53,  54,  55,  56,  57,  58,  59,  60,  61,  62,  63,  64,\n",
       "         65,  66,  67,  68,  69,  70,  71,  72,  73,  74,  75,  76,  77,\n",
       "         78,  79,  80,  81,  82,  83,  84,  85,  86,  87,  88,  89,  90,\n",
       "         91,  92,  93,  94,  95,  96,  97,  98,  99, 100, 101, 102, 103,\n",
       "        104, 105, 106, 107, 108, 109, 110, 111, 112, 113, 114, 115, 116,\n",
       "        117, 118, 119, 120, 121, 122, 123, 124, 125, 126, 127, 128, 129,\n",
       "        130, 131, 132, 133, 134, 135, 136, 137, 138, 139, 140, 141, 142,\n",
       "        143, 144, 145, 146, 147, 148, 149, 150, 151, 152, 153, 154, 155,\n",
       "        156, 157, 158, 159, 160, 161, 162, 163, 164, 165, 166, 167, 168,\n",
       "        169, 170, 171, 172, 173, 174, 175, 176, 177, 178, 179, 180, 181,\n",
       "        182, 183, 184, 185, 186, 187, 188, 189, 190, 191, 192, 193, 194,\n",
       "        195, 196, 197, 198, 199, 200, 201, 202, 203, 204, 205, 206, 207,\n",
       "        208, 209, 210, 211, 212, 213, 214, 215, 216, 217, 218, 219, 220,\n",
       "        221, 222, 223, 224, 225, 226, 227, 228, 229, 230, 231, 232, 233,\n",
       "        234, 235, 236, 237, 238, 239, 240, 241, 242, 243, 244, 245, 246,\n",
       "        247, 248, 249, 250, 251, 252, 253, 254, 255, 256, 257, 258, 259,\n",
       "        260, 261, 262, 263, 264, 265, 266, 267, 268, 269, 270, 271, 272,\n",
       "        273, 274, 275, 276, 277, 278, 279, 280, 281, 282, 283, 284, 285,\n",
       "        286, 287]),\n",
       " <a list of 288 Text xticklabel objects>)"
      ]
     },
     "execution_count": 110,
     "metadata": {},
     "output_type": "execute_result"
    },
    {
     "data": {
      "image/png": "[encoded data removed]",
      "text/plain": [
       "<Figure size 1080x360 with 1 Axes>"
      ]
     },
     "metadata": {
      "needs_background": "light"
     },
     "output_type": "display_data"
    }
   ],
   "source": [
    "# TOTAL CASES ON FIGURE\n",
    "\n",
    "# i substracted totalcase, totaldeath and posative to know active cases\n",
    "\n",
    "plt.figure(figsize=(15,5))\n",
    "sns.barplot(x=datewise.index.date, y=datewise['total_cases']-datewise['total_deaths']-datewise['positive_rate'])\n",
    "plt.title('Total Active Cases')\n",
    "plt.xticks(rotation=90)"
   ]
  },
  {
   "cell_type": "code",
   "execution_count": 111,
   "metadata": {},
   "outputs": [
    {
     "data": {
      "text/plain": [
       "(array([  0,   1,   2,   3,   4,   5,   6,   7,   8,   9,  10,  11,  12,\n",
       "         13,  14,  15,  16,  17,  18,  19,  20,  21,  22,  23,  24,  25,\n",
       "         26,  27,  28,  29,  30,  31,  32,  33,  34,  35,  36,  37,  38,\n",
       "         39,  40,  41,  42,  43,  44,  45,  46,  47,  48,  49,  50,  51,\n",
       "         52,  53,  54,  55,  56,  57,  58,  59,  60,  61,  62,  63,  64,\n",
       "         65,  66,  67,  68,  69,  70,  71,  72,  73,  74,  75,  76,  77,\n",
       "         78,  79,  80,  81,  82,  83,  84,  85,  86,  87,  88,  89,  90,\n",
       "         91,  92,  93,  94,  95,  96,  97,  98,  99, 100, 101, 102, 103,\n",
       "        104, 105, 106, 107, 108, 109, 110, 111, 112, 113, 114, 115, 116,\n",
       "        117, 118, 119, 120, 121, 122, 123, 124, 125, 126, 127, 128, 129,\n",
       "        130, 131, 132, 133, 134, 135, 136, 137, 138, 139, 140, 141, 142,\n",
       "        143, 144, 145, 146, 147, 148, 149, 150, 151, 152, 153, 154, 155,\n",
       "        156, 157, 158, 159, 160, 161, 162, 163, 164, 165, 166, 167, 168,\n",
       "        169, 170, 171, 172, 173, 174, 175, 176, 177, 178, 179, 180, 181,\n",
       "        182, 183, 184, 185, 186, 187, 188, 189, 190, 191, 192, 193, 194,\n",
       "        195, 196, 197, 198, 199, 200, 201, 202, 203, 204, 205, 206, 207,\n",
       "        208, 209, 210, 211, 212, 213, 214, 215, 216, 217, 218, 219, 220,\n",
       "        221, 222, 223, 224, 225, 226, 227, 228, 229, 230, 231, 232, 233,\n",
       "        234, 235, 236, 237, 238, 239, 240, 241, 242, 243, 244, 245, 246,\n",
       "        247, 248, 249, 250, 251, 252, 253, 254, 255, 256, 257, 258, 259,\n",
       "        260, 261, 262, 263, 264, 265, 266, 267, 268, 269, 270, 271, 272,\n",
       "        273, 274, 275, 276, 277, 278, 279, 280, 281, 282, 283, 284, 285,\n",
       "        286, 287]),\n",
       " <a list of 288 Text xticklabel objects>)"
      ]
     },
     "execution_count": 111,
     "metadata": {},
     "output_type": "execute_result"
    },
    {
     "data": {
      "image/png": "[encoded data removed]",
      "text/plain": [
       "<Figure size 1080x360 with 1 Axes>"
      ]
     },
     "metadata": {
      "needs_background": "light"
     },
     "output_type": "display_data"
    }
   ],
   "source": [
    "# TOTAL TESTS ON FIGURE\n",
    "\n",
    "# same procidure as previus stage to know Tested cases\n",
    "\n",
    "plt.figure(figsize=(15,5))\n",
    "sns.barplot(x=datewise.index.date, y=datewise['total_deaths']-datewise['positive_rate'])\n",
    "plt.title('Total Tested Cases')\n",
    "plt.xticks(rotation=90)"
   ]
  },
  {
   "cell_type": "code",
   "execution_count": 112,
   "metadata": {},
   "outputs": [
    {
     "data": {
      "text/plain": [
       "Text(0.5, 1.0, 'Daily Progress Diagram')"
      ]
     },
     "execution_count": 112,
     "metadata": {},
     "output_type": "execute_result"
    },
    {
     "data": {
      "image/png": "[encoded data removed]",
      "text/plain": [
       "<Figure size 576x360 with 1 Axes>"
      ]
     },
     "metadata": {
      "needs_background": "light"
     },
     "output_type": "display_data"
    }
   ],
   "source": [
    "# CREATING CLEAN FIGURE (BY DAY)\n",
    "\n",
    "# here i compare with totaldeath, totalcase, date and posative to display out the clean figure.\n",
    "# i have used for loop here to access all the data in that csv file\n",
    "# similarly i have used data unique to avoid repeatig case\n",
    "# i have given date 1 for single days of analyzation, it analyse report of every day\n",
    "\n",
    "datewise['date']=datewise.index.date\n",
    "date_total=[]\n",
    "case_total=[]\n",
    "death_total=[]\n",
    "positive_total=[]\n",
    "date=1\n",
    "for i in list(datewise['date'].unique()):\n",
    "    case_total.append(datewise[datewise['date']==i]['total_cases'].iloc[-1])\n",
    "    death_total.append(datewise[datewise['date']==i]['total_deaths'].iloc[-1])\n",
    "    positive_total.append(datewise[datewise['date']==i]['positive_rate'].iloc[-1])\n",
    "    date_total.append(date)\n",
    "    date=date+1\n",
    "plt.figure(figsize=(8,5))\n",
    "plt.plot(date_total, case_total, linewidth=3)\n",
    "plt.plot(date_total, death_total, linewidth=3)\n",
    "plt.plot(date_total, positive_total, linewidth=3)\n",
    "plt.xlabel('Date (in days)')\n",
    "plt.ylabel('No. of cases')\n",
    "plt.title('Daily Progress Diagram')"
   ]
  },
  {
   "cell_type": "code",
   "execution_count": 113,
   "metadata": {},
   "outputs": [
    {
     "data": {
      "text/plain": [
       "Text(0.5, 1.0, 'Daily Report of Deaths Cases')"
      ]
     },
     "execution_count": 113,
     "metadata": {},
     "output_type": "execute_result"
    },
    {
     "data": {
      "image/png": "[encoded data removed]",
      "text/plain": [
       "<Figure size 864x288 with 2 Axes>"
      ]
     },
     "metadata": {
      "needs_background": "light"
     },
     "output_type": "display_data"
    }
   ],
   "source": [
    "# TOTAL DEATH AND POSITICE CASE IN 2 DIFF FIGURE\n",
    "\n",
    "# analyzing with two different figure of deaths and posative cases\n",
    "# i have used previous stage's data here as variable\n",
    "# ax1 and ax2. ax1 for posative and ax2 for deaths\n",
    "\n",
    "fig,(ax1, ax2) = plt.subplots(1,2,figsize=(12,4))\n",
    "sns.barplot(x=date_total, y=pd.Series(positive_total).diff().fillna(0),ax=ax1)\n",
    "sns.barplot(x=date_total, y=pd.Series(death_total).diff().fillna(0),ax=ax2)\n",
    "ax1.set_xlabel('Days')\n",
    "ax1.set_ylabel('No. of Posative Cases')\n",
    "ax1.set_title('Daily Report of Posative Cases')\n",
    "\n",
    "ax2.set_xlabel('Days')\n",
    "ax2.set_ylabel('No. of Deaths Cases')\n",
    "ax2.set_title('Daily Report of Deaths Cases')"
   ]
  },
  {
   "cell_type": "code",
   "execution_count": 114,
   "metadata": {},
   "outputs": [
    {
     "data": {
      "image/png": "[encoded data removed]",
      "text/plain": [
       "<Figure size 1080x432 with 1 Axes>"
      ]
     },
     "metadata": {
      "needs_background": "light"
     },
     "output_type": "display_data"
    }
   ],
   "source": [
    "# DAILY INCREASE TIMESTAMP\n",
    "\n",
    "# here i analyze with timestamp form january to october\n",
    "# plt is from matplotlib for changes in figure\n",
    "# fillna(0) to fill NaN as 0 value\n",
    "\n",
    "plt.figure(figsize=(15,6))\n",
    "plt.plot(datewise['total_cases'].diff().fillna(0), label='Daily increase cases', linewidth=3)\n",
    "plt.plot(datewise['total_deaths'].diff().fillna(0), label='Daily increase deaths cases', linewidth=3)\n",
    "plt.plot(datewise['positive_rate'].diff().fillna(0), label='Daily increase posative cases', linewidth=3)\n",
    "plt.xlabel('TimeStamp')\n",
    "plt.ylabel('Daily Increase')\n",
    "plt.title('Daily Increase')\n",
    "plt.legend()\n",
    "plt.xticks(rotation=90)\n",
    "plt.show()"
   ]
  },
  {
   "cell_type": "code",
   "execution_count": 115,
   "metadata": {},
   "outputs": [
    {
     "data": {
      "text/plain": [
       "Text(0.5, 1.0, 'Continent with Deaths Cases')"
      ]
     },
     "execution_count": 115,
     "metadata": {},
     "output_type": "execute_result"
    },
    {
     "data": {
      "image/png": "[encoded data removed]",
      "text/plain": [
       "<Figure size 1800x720 with 2 Axes>"
      ]
     },
     "metadata": {
      "needs_background": "light"
     },
     "output_type": "display_data"
    }
   ],
   "source": [
    "# LETS TRY WITH Continent-WISE\n",
    "\n",
    "# i have tried here with continent to visualize cases\n",
    "# here i have define as groupby of continent and aggregate (agg) to pass function in a series\n",
    "# *100 is for percentage\n",
    "# which shows asia is the highest and oceania have lowest cases\n",
    "\n",
    "\n",
    "\n",
    "continentwise = df[df['date']==df['date'].max()].groupby(['continent']).agg({'total_cases':'sum','total_deaths':'sum','positive_rate':'sum'}).sort_values(['total_cases'], ascending=False)\n",
    "continentwise['death']=(continentwise['total_deaths']/continentwise['positive_rate'])*100\n",
    "continentwise['posative']=(continentwise['positive_rate']/continentwise['total_cases'])*100\n",
    "\n",
    "fig,(ax1, ax2) = plt.subplots(1,2,figsize=(25,10))\n",
    "top_case = continentwise.sort_values(['total_cases'], ascending=False).head(10)\n",
    "top_death = continentwise.sort_values(['total_deaths'], ascending=False).head(10)\n",
    "\n",
    "sns.barplot(x=top_case['total_cases'], y=top_case.index, ax=ax1)\n",
    "sns.barplot(x=top_death['total_deaths'], y=top_death.index, ax=ax2)\n",
    "\n",
    "ax1.set_title('Continent with Total Cases')\n",
    "ax2.set_title('Continent with Deaths Cases')"
   ]
  },
  {
   "cell_type": "code",
   "execution_count": 116,
   "metadata": {},
   "outputs": [],
   "source": [
    "# ANALYZING CASE IN NEPAL"
   ]
  },
  {
   "cell_type": "code",
   "execution_count": 117,
   "metadata": {},
   "outputs": [
    {
     "name": "stdout",
     "output_type": "stream",
     "text": [
      "total_cases     111802\n",
      "total_deaths       645\n",
      "positive_rate        0\n",
      "Name: 2020-10-13 00:00:00, dtype: float64\n"
     ]
    }
   ],
   "source": [
    "# to analyze cases of nepal i put date as group and aggregare totalcase, death and positive rate of nepal\n",
    "# and finally it shows total case and total death but sorry for posative rate (this is not a perfect files so..)\n",
    "\n",
    "nepal = df[df['location']=='Nepal']\n",
    "datewise_nepal = nepal.groupby(['date']).agg({'total_cases':'sum','total_deaths':'sum','positive_rate':'sum'})\n",
    "print(datewise_nepal.iloc[-1])"
   ]
  },
  {
   "cell_type": "code",
   "execution_count": 118,
   "metadata": {},
   "outputs": [
    {
     "data": {
      "text/plain": [
       "Text(0.5, 1.0, 'Daily Progress Diagram in Nepal')"
      ]
     },
     "execution_count": 118,
     "metadata": {},
     "output_type": "execute_result"
    },
    {
     "data": {
      "image/png": "[encoded data removed]",
      "text/plain": [
       "<Figure size 576x360 with 1 Axes>"
      ]
     },
     "metadata": {
      "needs_background": "light"
     },
     "output_type": "display_data"
    }
   ],
   "source": [
    "# CREATING CLEAN FIGURE of Nepal (BY DAY)\n",
    "\n",
    "# same procedure as with world case (i already explain the code up)\n",
    "# it shows the increasing active case is too higher than deaths\n",
    "\n",
    "datewise_nepal['date']=datewise.index.date\n",
    "nepal_date_total=[]\n",
    "nepal_case_total=[]\n",
    "nepal_death_total=[]\n",
    "nepal_positive_total=[]\n",
    "date=1\n",
    "for i in list(datewise_nepal['date'].unique()):\n",
    "    nepal_case_total.append(datewise[datewise_nepal['date']==i]['total_cases'].iloc[-1])\n",
    "    nepal_death_total.append(datewise[datewise_nepal['date']==i]['total_deaths'].iloc[-1])\n",
    "    nepal_positive_total.append(datewise[datewise_nepal['date']==i]['positive_rate'].iloc[-1])\n",
    "    nepal_date_total.append(date)\n",
    "    date=date+1\n",
    "plt.figure(figsize=(8,5))\n",
    "plt.plot(nepal_date_total, nepal_case_total, linewidth=3)\n",
    "plt.plot(nepal_date_total, nepal_death_total, linewidth=3)\n",
    "plt.plot(nepal_date_total, nepal_positive_total, linewidth=3)\n",
    "plt.xlabel('Date (in days)')\n",
    "plt.ylabel('No. of cases in Nepal')\n",
    "plt.title('Daily Progress Diagram in Nepal')"
   ]
  },
  {
   "cell_type": "code",
   "execution_count": 119,
   "metadata": {},
   "outputs": [
    {
     "name": "stdout",
     "output_type": "stream",
     "text": [
      "In 250 days it reach 111802.0 confirm cases in Nepal\n",
      "In 267 days it reach 7804197.0 confirm cases in US\n",
      "In 288 days it reach 90830.0  confirm cases in China\n",
      "In 257 days it reach 7175880.0 confirm cases in India\n",
      "In 273 days it reach 89673.0 confirm cases in Japan\n"
     ]
    }
   ],
   "source": [
    "# LOOKING INTO OTHERS COUNTRY\n",
    "\n",
    "#choosing different country with their own data\n",
    "us= df[df['location']=='United States']\n",
    "china = df[df['location']=='China']\n",
    "india = df[df['location']=='India']\n",
    "japan = df[df['location']=='Japan']\n",
    "\n",
    "# aggregate the necessay columns through date\n",
    "datewise_us = us.groupby(['date']).agg({'total_cases':'sum','total_deaths':'sum','positive_rate':'sum'})\n",
    "datewise_china = china.groupby(['date']).agg({'total_cases':'sum','total_deaths':'sum','positive_rate':'sum'})\n",
    "datewise_india = india.groupby(['date']).agg({'total_cases':'sum','total_deaths':'sum','positive_rate':'sum'})\n",
    "datewise_japan = japan.groupby(['date']).agg({'total_cases':'sum','total_deaths':'sum','positive_rate':'sum'})\n",
    "\n",
    "# getting maximum number of  total  cases with country(unique data)\n",
    "nepal_total = datewise_nepal['total_cases'].max()\n",
    "us_total = datewise_us['total_cases'].max()\n",
    "china_total = datewise_china['total_cases'].max()\n",
    "india_total = datewise_india['total_cases'].max()\n",
    "japan_total = datewise_japan['total_cases'].max()\n",
    "\n",
    "# finally printing the results with custom readable\n",
    "print('In',datewise_nepal[datewise_nepal['total_cases']>0].shape[0],'days it reach',nepal_total, 'confirm cases in Nepal')\n",
    "print('In',datewise_us[datewise_us['total_cases']>0].shape[0],'days it reach',us_total, 'confirm cases in US')\n",
    "print('In',datewise_china[datewise_china['total_cases']>0].shape[0],'days it reach',china_total, ' confirm cases in China')\n",
    "print('In',datewise_india[datewise_india['total_cases']>0].shape[0],'days it reach',india_total, 'confirm cases in India')\n",
    "print('In',datewise_japan[datewise_japan['total_cases']>0].shape[0],'days it reach',japan_total, 'confirm cases in Japan')"
   ]
  },
  {
   "cell_type": "code",
   "execution_count": null,
   "metadata": {},
   "outputs": [],
   "source": []
  },
  {
   "cell_type": "code",
   "execution_count": 120,
   "metadata": {},
   "outputs": [],
   "source": [
    "# FORECASTING PART\n"
   ]
  },
  {
   "cell_type": "code",
   "execution_count": 121,
   "metadata": {},
   "outputs": [],
   "source": [
    "# i have used predict here \n",
    "# i tried through date\n",
    "# here need to train and validate data\n",
    "# shaping data with some validation\n",
    "\n",
    "datewise['since']=datewise.index-datewise.index[0]\n",
    "datewise['since']=datewise['since'].dt.days\n",
    "train_data = datewise.iloc[:int(datewise.shape[0]*0.95)]\n",
    "valid_data = datewise.iloc[:int(datewise.shape[0]*0.95)]\n",
    "models_scores=[]"
   ]
  },
  {
   "cell_type": "code",
   "execution_count": 122,
   "metadata": {},
   "outputs": [
    {
     "name": "stderr",
     "output_type": "stream",
     "text": [
      "/home/ec2-user/anaconda3/envs/python3/lib/python3.6/site-packages/sklearn/utils/validation.py:760: DataConversionWarning: A column-vector y was passed when a 1d array was expected. Please change the shape of y to (n_samples, ), for example using ravel().\n",
      "  y = column_or_1d(y, warn=True)\n"
     ]
    },
    {
     "data": {
      "text/plain": [
       "SVR(C=1, cache_size=200, coef0=0.0, degree=5, epsilon=0.001, gamma='scale',\n",
       "    kernel='poly', max_iter=-1, shrinking=True, tol=0.001, verbose=False)"
      ]
     },
     "execution_count": 122,
     "metadata": {},
     "output_type": "execute_result"
    }
   ],
   "source": [
    "# using most useful and common library/models linearRegression and  support vector machine \n",
    "# using support vector machine with parameter C as 1, karnel as poly and epsilon and 0.001\n",
    "# again shaping data with some validation\n",
    "\n",
    "\n",
    "lr = LinearRegression(normalize=True)\n",
    "svm = SVR(C=1, degree=5, kernel='poly', epsilon=0.001)\n",
    "lr.fit(np.array(train_data['since']).reshape(-1,1), np.array(train_data['total_cases']).reshape(-1,1))\n",
    "svm.fit(np.array(train_data['since']).reshape(-1,1), np.array(train_data['total_cases']).reshape(-1,1))"
   ]
  },
  {
   "cell_type": "code",
   "execution_count": 123,
   "metadata": {},
   "outputs": [],
   "source": [
    "prediction_valid_lr = lr.predict(np.array(valid_data['since']).reshape(-1,1))\n",
    "prediction_valid_svm = lr.predict(np.array(valid_data['since']).reshape(-1,1))\n"
   ]
  },
  {
   "cell_type": "code",
   "execution_count": 124,
   "metadata": {},
   "outputs": [
    {
     "data": {
      "text/html": [
       "<div>\n",
       "<style scoped>\n",
       "    .dataframe tbody tr th:only-of-type {\n",
       "        vertical-align: middle;\n",
       "    }\n",
       "\n",
       "    .dataframe tbody tr th {\n",
       "        vertical-align: top;\n",
       "    }\n",
       "\n",
       "    .dataframe thead th {\n",
       "        text-align: right;\n",
       "    }\n",
       "</style>\n",
       "<table border=\"1\" class=\"dataframe\">\n",
       "  <thead>\n",
       "    <tr style=\"text-align: right;\">\n",
       "      <th></th>\n",
       "      <th>Dates</th>\n",
       "      <th>Linear Regression</th>\n",
       "      <th>Support Vectors Mechines</th>\n",
       "    </tr>\n",
       "  </thead>\n",
       "  <tbody>\n",
       "    <tr>\n",
       "      <th>0</th>\n",
       "      <td>2020-10-14</td>\n",
       "      <td>52456047</td>\n",
       "      <td>22640210</td>\n",
       "    </tr>\n",
       "    <tr>\n",
       "      <th>1</th>\n",
       "      <td>2020-10-15</td>\n",
       "      <td>52687464</td>\n",
       "      <td>22888105</td>\n",
       "    </tr>\n",
       "    <tr>\n",
       "      <th>2</th>\n",
       "      <td>2020-10-16</td>\n",
       "      <td>52918882</td>\n",
       "      <td>23139455</td>\n",
       "    </tr>\n",
       "    <tr>\n",
       "      <th>3</th>\n",
       "      <td>2020-10-17</td>\n",
       "      <td>53150300</td>\n",
       "      <td>23394297</td>\n",
       "    </tr>\n",
       "    <tr>\n",
       "      <th>4</th>\n",
       "      <td>2020-10-18</td>\n",
       "      <td>53381717</td>\n",
       "      <td>23652665</td>\n",
       "    </tr>\n",
       "    <tr>\n",
       "      <th>5</th>\n",
       "      <td>2020-10-19</td>\n",
       "      <td>53613135</td>\n",
       "      <td>23914597</td>\n",
       "    </tr>\n",
       "    <tr>\n",
       "      <th>6</th>\n",
       "      <td>2020-10-20</td>\n",
       "      <td>53844553</td>\n",
       "      <td>24180129</td>\n",
       "    </tr>\n",
       "    <tr>\n",
       "      <th>7</th>\n",
       "      <td>2020-10-21</td>\n",
       "      <td>54075970</td>\n",
       "      <td>24449299</td>\n",
       "    </tr>\n",
       "    <tr>\n",
       "      <th>8</th>\n",
       "      <td>2020-10-22</td>\n",
       "      <td>54307388</td>\n",
       "      <td>24722143</td>\n",
       "    </tr>\n",
       "    <tr>\n",
       "      <th>9</th>\n",
       "      <td>2020-10-23</td>\n",
       "      <td>54538806</td>\n",
       "      <td>24998700</td>\n",
       "    </tr>\n",
       "    <tr>\n",
       "      <th>10</th>\n",
       "      <td>2020-10-24</td>\n",
       "      <td>54770223</td>\n",
       "      <td>25279006</td>\n",
       "    </tr>\n",
       "    <tr>\n",
       "      <th>11</th>\n",
       "      <td>2020-10-25</td>\n",
       "      <td>55001641</td>\n",
       "      <td>25563100</td>\n",
       "    </tr>\n",
       "    <tr>\n",
       "      <th>12</th>\n",
       "      <td>2020-10-26</td>\n",
       "      <td>55233059</td>\n",
       "      <td>25851020</td>\n",
       "    </tr>\n",
       "    <tr>\n",
       "      <th>13</th>\n",
       "      <td>2020-10-27</td>\n",
       "      <td>55464476</td>\n",
       "      <td>26142805</td>\n",
       "    </tr>\n",
       "    <tr>\n",
       "      <th>14</th>\n",
       "      <td>2020-10-28</td>\n",
       "      <td>55695894</td>\n",
       "      <td>26438494</td>\n",
       "    </tr>\n",
       "  </tbody>\n",
       "</table>\n",
       "</div>"
      ],
      "text/plain": [
       "        Dates  Linear Regression  Support Vectors Mechines\n",
       "0  2020-10-14           52456047                  22640210\n",
       "1  2020-10-15           52687464                  22888105\n",
       "2  2020-10-16           52918882                  23139455\n",
       "3  2020-10-17           53150300                  23394297\n",
       "4  2020-10-18           53381717                  23652665\n",
       "5  2020-10-19           53613135                  23914597\n",
       "6  2020-10-20           53844553                  24180129\n",
       "7  2020-10-21           54075970                  24449299\n",
       "8  2020-10-22           54307388                  24722143\n",
       "9  2020-10-23           54538806                  24998700\n",
       "10 2020-10-24           54770223                  25279006\n",
       "11 2020-10-25           55001641                  25563100\n",
       "12 2020-10-26           55233059                  25851020\n",
       "13 2020-10-27           55464476                  26142805\n",
       "14 2020-10-28           55695894                  26438494"
      ]
     },
     "execution_count": 124,
     "metadata": {},
     "output_type": "execute_result"
    }
   ],
   "source": [
    "# PREDICTION THE UPCOMMING DAYS CASE\n",
    "\n",
    "# now time to predict with array, lambda, float format, dataframe and zip\n",
    "# where,\n",
    "#     array for used of many variable,\n",
    "#     lambda for manage resource, \n",
    "#     float_format for decimal values,\n",
    "#     dataFrame for finding null values,\n",
    "#     zip for unpacking zipped datasets\n",
    "# finally our result is displayed with three columns 'Dates', 'Linear Regression' and 'Support Vectors Mechines'\n",
    "\n",
    "upcomming_date = []\n",
    "upcomming_prediction_lr = []\n",
    "upcomming_prediction_svm = []\n",
    "for i in range(1,18):\n",
    "    upcomming_date.append(datewise.index[-1]+timedelta(days=i))\n",
    "    upcomming_prediction_lr.append(lr.predict(np.array(datewise['since'].max()+i).reshape(-1,1))[0][0])\n",
    "    upcomming_prediction_svm.append(svm.predict(np.array(datewise['since'].max()+i).reshape(-1,1))[0])\n",
    "pd.set_option('display.float_format', lambda x: '%.f'%x)\n",
    "model_predictions=pd.DataFrame(zip(upcomming_date,upcomming_prediction_lr,upcomming_prediction_svm), columns=['Dates', 'Linear Regression', 'Support Vectors Mechines'])\n",
    "model_predictions.head(15)"
   ]
  },
  {
   "cell_type": "code",
   "execution_count": 125,
   "metadata": {},
   "outputs": [],
   "source": [
    "# i have used forecast here \n"
   ]
  },
  {
   "cell_type": "code",
   "execution_count": 126,
   "metadata": {},
   "outputs": [],
   "source": [
    "# almost same process here as predic\n",
    "# train and validate data using shape\n",
    "# and the main thing i have used holt here to forecast the future data\n",
    "# fitting with specific function and passing the lenght of valid data in forecast\n",
    "\n",
    "model_train= datewise.iloc[:int(datewise.shape[0]*0.85)]\n",
    "valid = datewise.iloc[:int(datewise.shape[0]*0.85)]\n",
    "\n",
    "holt = Holt(np.asarray(model_train['total_cases'])).fit(smoothing_level=1.4,smoothing_slope=0.2)\n",
    "y_pred = valid.copy()\n",
    "y_pred['Holt']=holt.forecast(len(valid))"
   ]
  },
  {
   "cell_type": "code",
   "execution_count": 127,
   "metadata": {},
   "outputs": [
    {
     "data": {
      "text/html": [
       "<div>\n",
       "<style scoped>\n",
       "    .dataframe tbody tr th:only-of-type {\n",
       "        vertical-align: middle;\n",
       "    }\n",
       "\n",
       "    .dataframe tbody tr th {\n",
       "        vertical-align: top;\n",
       "    }\n",
       "\n",
       "    .dataframe thead th {\n",
       "        text-align: right;\n",
       "    }\n",
       "</style>\n",
       "<table border=\"1\" class=\"dataframe\">\n",
       "  <thead>\n",
       "    <tr style=\"text-align: right;\">\n",
       "      <th></th>\n",
       "      <th>Dates</th>\n",
       "      <th>Linear Regression</th>\n",
       "      <th>Support Vectors Mechines</th>\n",
       "      <th>Holts Prediction</th>\n",
       "    </tr>\n",
       "  </thead>\n",
       "  <tbody>\n",
       "    <tr>\n",
       "      <th>0</th>\n",
       "      <td>2020-10-14</td>\n",
       "      <td>52456047</td>\n",
       "      <td>22640210</td>\n",
       "      <td>179205565</td>\n",
       "    </tr>\n",
       "    <tr>\n",
       "      <th>1</th>\n",
       "      <td>2020-10-15</td>\n",
       "      <td>52687464</td>\n",
       "      <td>22888105</td>\n",
       "      <td>179732674</td>\n",
       "    </tr>\n",
       "    <tr>\n",
       "      <th>2</th>\n",
       "      <td>2020-10-16</td>\n",
       "      <td>52918882</td>\n",
       "      <td>23139455</td>\n",
       "      <td>180259783</td>\n",
       "    </tr>\n",
       "    <tr>\n",
       "      <th>3</th>\n",
       "      <td>2020-10-17</td>\n",
       "      <td>53150300</td>\n",
       "      <td>23394297</td>\n",
       "      <td>180786893</td>\n",
       "    </tr>\n",
       "    <tr>\n",
       "      <th>4</th>\n",
       "      <td>2020-10-18</td>\n",
       "      <td>53381717</td>\n",
       "      <td>23652665</td>\n",
       "      <td>181314002</td>\n",
       "    </tr>\n",
       "    <tr>\n",
       "      <th>5</th>\n",
       "      <td>2020-10-19</td>\n",
       "      <td>53613135</td>\n",
       "      <td>23914597</td>\n",
       "      <td>181841112</td>\n",
       "    </tr>\n",
       "    <tr>\n",
       "      <th>6</th>\n",
       "      <td>2020-10-20</td>\n",
       "      <td>53844553</td>\n",
       "      <td>24180129</td>\n",
       "      <td>182368221</td>\n",
       "    </tr>\n",
       "    <tr>\n",
       "      <th>7</th>\n",
       "      <td>2020-10-21</td>\n",
       "      <td>54075970</td>\n",
       "      <td>24449299</td>\n",
       "      <td>182895331</td>\n",
       "    </tr>\n",
       "    <tr>\n",
       "      <th>8</th>\n",
       "      <td>2020-10-22</td>\n",
       "      <td>54307388</td>\n",
       "      <td>24722143</td>\n",
       "      <td>183422440</td>\n",
       "    </tr>\n",
       "    <tr>\n",
       "      <th>9</th>\n",
       "      <td>2020-10-23</td>\n",
       "      <td>54538806</td>\n",
       "      <td>24998700</td>\n",
       "      <td>183949549</td>\n",
       "    </tr>\n",
       "  </tbody>\n",
       "</table>\n",
       "</div>"
      ],
      "text/plain": [
       "       Dates  Linear Regression  Support Vectors Mechines  Holts Prediction\n",
       "0 2020-10-14           52456047                  22640210         179205565\n",
       "1 2020-10-15           52687464                  22888105         179732674\n",
       "2 2020-10-16           52918882                  23139455         180259783\n",
       "3 2020-10-17           53150300                  23394297         180786893\n",
       "4 2020-10-18           53381717                  23652665         181314002\n",
       "5 2020-10-19           53613135                  23914597         181841112\n",
       "6 2020-10-20           53844553                  24180129         182368221\n",
       "7 2020-10-21           54075970                  24449299         182895331\n",
       "8 2020-10-22           54307388                  24722143         183422440\n",
       "9 2020-10-23           54538806                  24998700         183949549"
      ]
     },
     "execution_count": 127,
     "metadata": {},
     "output_type": "execute_result"
    }
   ],
   "source": [
    "# finally processing for future data using HOLT\n",
    "# predic data day by day using loop \n",
    "# finally our result is displayed with three columns 'Dates', 'Linear Regression', 'Support Vectors Mechines' and'Holts Prediction'\n",
    "\n",
    "\n",
    "\n",
    "holt_upcomming_date = []\n",
    "holt_upcomming_prediction = []\n",
    "for i in range(1,18):\n",
    "    holt_upcomming_date.append(datewise.index[-1]+timedelta(days=i))\n",
    "    holt_upcomming_prediction.append(holt.forecast((len(valid)+i))[-1])\n",
    "model_predictions['Holts Prediction']=holt_upcomming_prediction\n",
    "model_predictions.head(10)"
   ]
  },
  {
   "cell_type": "code",
   "execution_count": null,
   "metadata": {},
   "outputs": [],
   "source": []
  },
  {
   "cell_type": "code",
   "execution_count": null,
   "metadata": {},
   "outputs": [],
   "source": []
  },
  {
   "cell_type": "code",
   "execution_count": null,
   "metadata": {},
   "outputs": [],
   "source": []
  }
 ],
 "metadata": {
  "kernelspec": {
   "display_name": "conda_python3",
   "language": "python",
   "name": "conda_python3"
  },
  "language_info": {
   "codemirror_mode": {
    "name": "ipython",
    "version": 3
   },
   "file_extension": ".py",
   "mimetype": "text/x-python",
   "name": "python",
   "nbconvert_exporter": "python",
   "pygments_lexer": "ipython3",
   "version": "3.6.10"
  }
 },
 "nbformat": 4,
 "nbformat_minor": 4
}
